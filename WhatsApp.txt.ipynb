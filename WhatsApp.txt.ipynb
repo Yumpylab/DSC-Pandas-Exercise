{
 "cells": [
  {
   "cell_type": "code",
   "execution_count": 1,
   "metadata": {},
   "outputs": [],
   "source": [
    "import pandas as pd"
   ]
  },
  {
   "cell_type": "code",
   "execution_count": 2,
   "metadata": {},
   "outputs": [],
   "source": [
    "filename = 'WhatsApp1.txt'"
   ]
  },
  {
   "cell_type": "code",
   "execution_count": 31,
   "metadata": {},
   "outputs": [
    {
     "name": "stderr",
     "output_type": "stream",
     "text": [
      "b'Skipping line 15: expected 2 fields, saw 6\\nSkipping line 19: expected 2 fields, saw 3\\nSkipping line 46: expected 2 fields, saw 3\\nSkipping line 54: expected 2 fields, saw 6\\nSkipping line 55: expected 2 fields, saw 3\\nSkipping line 63: expected 2 fields, saw 3\\nSkipping line 65: expected 2 fields, saw 3\\nSkipping line 83: expected 2 fields, saw 3\\nSkipping line 87: expected 2 fields, saw 3\\nSkipping line 102: expected 2 fields, saw 3\\nSkipping line 117: expected 2 fields, saw 3\\nSkipping line 119: expected 2 fields, saw 3\\nSkipping line 146: expected 2 fields, saw 4\\nSkipping line 166: expected 2 fields, saw 3\\nSkipping line 171: expected 2 fields, saw 3\\nSkipping line 190: expected 2 fields, saw 4\\nSkipping line 201: expected 2 fields, saw 3\\nSkipping line 207: expected 2 fields, saw 3\\nSkipping line 252: expected 2 fields, saw 5\\nSkipping line 262: expected 2 fields, saw 3\\nSkipping line 264: expected 2 fields, saw 3\\nSkipping line 281: expected 2 fields, saw 3\\nSkipping line 415: expected 2 fields, saw 3\\nSkipping line 423: expected 2 fields, saw 3\\nSkipping line 441: expected 2 fields, saw 3\\nSkipping line 475: expected 2 fields, saw 3\\nSkipping line 495: expected 2 fields, saw 3\\nSkipping line 515: expected 2 fields, saw 4\\nSkipping line 517: expected 2 fields, saw 3\\nSkipping line 529: expected 2 fields, saw 3\\nSkipping line 560: expected 2 fields, saw 3\\nSkipping line 562: expected 2 fields, saw 3\\nSkipping line 570: expected 2 fields, saw 3\\nSkipping line 584: expected 2 fields, saw 3\\nSkipping line 601: expected 2 fields, saw 3\\nSkipping line 606: expected 2 fields, saw 3\\nSkipping line 608: expected 2 fields, saw 4\\nSkipping line 659: expected 2 fields, saw 3\\nSkipping line 662: expected 2 fields, saw 6\\nSkipping line 673: expected 2 fields, saw 3\\nSkipping line 678: expected 2 fields, saw 3\\nSkipping line 692: expected 2 fields, saw 3\\nSkipping line 712: expected 2 fields, saw 3\\nSkipping line 773: expected 2 fields, saw 3\\nSkipping line 779: expected 2 fields, saw 3\\nSkipping line 824: expected 2 fields, saw 3\\nSkipping line 852: expected 2 fields, saw 3\\nSkipping line 857: expected 2 fields, saw 3\\nSkipping line 860: expected 2 fields, saw 3\\nSkipping line 862: expected 2 fields, saw 9\\nSkipping line 863: expected 2 fields, saw 9\\nSkipping line 874: expected 2 fields, saw 4\\nSkipping line 877: expected 2 fields, saw 3\\nSkipping line 878: expected 2 fields, saw 22\\nSkipping line 891: expected 2 fields, saw 3\\nSkipping line 893: expected 2 fields, saw 5\\nSkipping line 905: expected 2 fields, saw 3\\nSkipping line 908: expected 2 fields, saw 3\\nSkipping line 911: expected 2 fields, saw 3\\nSkipping line 912: expected 2 fields, saw 3\\nSkipping line 913: expected 2 fields, saw 3\\nSkipping line 917: expected 2 fields, saw 3\\nSkipping line 927: expected 2 fields, saw 3\\nSkipping line 930: expected 2 fields, saw 3\\nSkipping line 946: expected 2 fields, saw 3\\nSkipping line 952: expected 2 fields, saw 6\\nSkipping line 953: expected 2 fields, saw 5\\nSkipping line 954: expected 2 fields, saw 7\\nSkipping line 955: expected 2 fields, saw 5\\nSkipping line 962: expected 2 fields, saw 3\\nSkipping line 978: expected 2 fields, saw 3\\nSkipping line 979: expected 2 fields, saw 4\\nSkipping line 988: expected 2 fields, saw 3\\nSkipping line 989: expected 2 fields, saw 4\\nSkipping line 997: expected 2 fields, saw 3\\nSkipping line 998: expected 2 fields, saw 4\\nSkipping line 1004: expected 2 fields, saw 3\\nSkipping line 1005: expected 2 fields, saw 4\\nSkipping line 1012: expected 2 fields, saw 4\\nSkipping line 1019: expected 2 fields, saw 4\\nSkipping line 1020: expected 2 fields, saw 10\\nSkipping line 1021: expected 2 fields, saw 4\\nSkipping line 1024: expected 2 fields, saw 5\\nSkipping line 1025: expected 2 fields, saw 4\\nSkipping line 1027: expected 2 fields, saw 4\\nSkipping line 1031: expected 2 fields, saw 4\\nSkipping line 1032: expected 2 fields, saw 4\\nSkipping line 1033: expected 2 fields, saw 3\\nSkipping line 1037: expected 2 fields, saw 4\\nSkipping line 1040: expected 2 fields, saw 3\\nSkipping line 1202: expected 2 fields, saw 3\\nSkipping line 1214: expected 2 fields, saw 3\\nSkipping line 1216: expected 2 fields, saw 3\\nSkipping line 1238: expected 2 fields, saw 3\\nSkipping line 1371: expected 2 fields, saw 3\\nSkipping line 1372: expected 2 fields, saw 3\\nSkipping line 1491: expected 2 fields, saw 3\\nSkipping line 1496: expected 2 fields, saw 3\\nSkipping line 1559: expected 2 fields, saw 3\\nSkipping line 1577: expected 2 fields, saw 5\\nSkipping line 1582: expected 2 fields, saw 3\\nSkipping line 1588: expected 2 fields, saw 3\\nSkipping line 1600: expected 2 fields, saw 3\\nSkipping line 1602: expected 2 fields, saw 3\\nSkipping line 1604: expected 2 fields, saw 3\\nSkipping line 1615: expected 2 fields, saw 3\\nSkipping line 1616: expected 2 fields, saw 3\\nSkipping line 1622: expected 2 fields, saw 3\\nSkipping line 1624: expected 2 fields, saw 3\\nSkipping line 1626: expected 2 fields, saw 3\\nSkipping line 1634: expected 2 fields, saw 3\\nSkipping line 1635: expected 2 fields, saw 3\\nSkipping line 1639: expected 2 fields, saw 3\\nSkipping line 1640: expected 2 fields, saw 4\\nSkipping line 1647: expected 2 fields, saw 3\\nSkipping line 1650: expected 2 fields, saw 3\\nSkipping line 1711: expected 2 fields, saw 3\\nSkipping line 1739: expected 2 fields, saw 3\\nSkipping line 1741: expected 2 fields, saw 5\\nSkipping line 1742: expected 2 fields, saw 4\\nSkipping line 1743: expected 2 fields, saw 3\\nSkipping line 1748: expected 2 fields, saw 5\\nSkipping line 1749: expected 2 fields, saw 4\\nSkipping line 1750: expected 2 fields, saw 3\\nSkipping line 1756: expected 2 fields, saw 3\\nSkipping line 1757: expected 2 fields, saw 3\\nSkipping line 1758: expected 2 fields, saw 3\\nSkipping line 1759: expected 2 fields, saw 3\\nSkipping line 1765: expected 2 fields, saw 3\\nSkipping line 1766: expected 2 fields, saw 3\\nSkipping line 1768: expected 2 fields, saw 3\\nSkipping line 1778: expected 2 fields, saw 3\\nSkipping line 1782: expected 2 fields, saw 3\\nSkipping line 1803: expected 2 fields, saw 3\\nSkipping line 1808: expected 2 fields, saw 3\\nSkipping line 1819: expected 2 fields, saw 3\\nSkipping line 1826: expected 2 fields, saw 3\\nSkipping line 1842: expected 2 fields, saw 3\\nSkipping line 1869: expected 2 fields, saw 3\\nSkipping line 1902: expected 2 fields, saw 3\\nSkipping line 1972: expected 2 fields, saw 3\\nSkipping line 1974: expected 2 fields, saw 3\\nSkipping line 1976: expected 2 fields, saw 3\\nSkipping line 1990: expected 2 fields, saw 3\\nSkipping line 2004: expected 2 fields, saw 4\\nSkipping line 2017: expected 2 fields, saw 3\\nSkipping line 2031: expected 2 fields, saw 3\\nSkipping line 2120: expected 2 fields, saw 3\\nSkipping line 2162: expected 2 fields, saw 4\\nSkipping line 2166: expected 2 fields, saw 3\\nSkipping line 2184: expected 2 fields, saw 3\\nSkipping line 2195: expected 2 fields, saw 3\\nSkipping line 2202: expected 2 fields, saw 3\\nSkipping line 2205: expected 2 fields, saw 3\\nSkipping line 2213: expected 2 fields, saw 3\\nSkipping line 2256: expected 2 fields, saw 3\\nSkipping line 2257: expected 2 fields, saw 3\\nSkipping line 2307: expected 2 fields, saw 3\\nSkipping line 2317: expected 2 fields, saw 3\\nSkipping line 2342: expected 2 fields, saw 3\\nSkipping line 2509: expected 2 fields, saw 3\\nSkipping line 2529: expected 2 fields, saw 3\\nSkipping line 2535: expected 2 fields, saw 3\\nSkipping line 2544: expected 2 fields, saw 3\\nSkipping line 2564: expected 2 fields, saw 3\\nSkipping line 2606: expected 2 fields, saw 3\\nSkipping line 2612: expected 2 fields, saw 3\\nSkipping line 2613: expected 2 fields, saw 3\\nSkipping line 2620: expected 2 fields, saw 3\\nSkipping line 2651: expected 2 fields, saw 3\\nSkipping line 2664: expected 2 fields, saw 3\\nSkipping line 2682: expected 2 fields, saw 3\\nSkipping line 2684: expected 2 fields, saw 3\\nSkipping line 2694: expected 2 fields, saw 3\\nSkipping line 2770: expected 2 fields, saw 3\\nSkipping line 2774: expected 2 fields, saw 3\\nSkipping line 2780: expected 2 fields, saw 7\\nSkipping line 2792: expected 2 fields, saw 3\\nSkipping line 2796: expected 2 fields, saw 3\\nSkipping line 2827: expected 2 fields, saw 3\\nSkipping line 2850: expected 2 fields, saw 3\\nSkipping line 3265: expected 2 fields, saw 3\\nSkipping line 3297: expected 2 fields, saw 3\\nSkipping line 3313: expected 2 fields, saw 3\\nSkipping line 3348: expected 2 fields, saw 3\\nSkipping line 3394: expected 2 fields, saw 3\\nSkipping line 3395: expected 2 fields, saw 3\\nSkipping line 3396: expected 2 fields, saw 3\\nSkipping line 3402: expected 2 fields, saw 3\\nSkipping line 3408: expected 2 fields, saw 3\\nSkipping line 3428: expected 2 fields, saw 3\\nSkipping line 3460: expected 2 fields, saw 3\\nSkipping line 3507: expected 2 fields, saw 3\\nSkipping line 3610: expected 2 fields, saw 3\\nSkipping line 3642: expected 2 fields, saw 3\\nSkipping line 3644: expected 2 fields, saw 3\\nSkipping line 3656: expected 2 fields, saw 3\\nSkipping line 4080: expected 2 fields, saw 3\\nSkipping line 4086: expected 2 fields, saw 5\\nSkipping line 4179: expected 2 fields, saw 6\\nSkipping line 4196: expected 2 fields, saw 3\\nSkipping line 4200: expected 2 fields, saw 3\\nSkipping line 4241: expected 2 fields, saw 3\\nSkipping line 4245: expected 2 fields, saw 3\\nSkipping line 4248: expected 2 fields, saw 3\\nSkipping line 4329: expected 2 fields, saw 3\\nSkipping line 4338: expected 2 fields, saw 6\\nSkipping line 4344: expected 2 fields, saw 6\\nSkipping line 4356: expected 2 fields, saw 6\\nSkipping line 4362: expected 2 fields, saw 6\\nSkipping line 4374: expected 2 fields, saw 6\\nSkipping line 4399: expected 2 fields, saw 4\\nSkipping line 4420: expected 2 fields, saw 4\\nSkipping line 4432: expected 2 fields, saw 3\\nSkipping line 4434: expected 2 fields, saw 3\\nSkipping line 4437: expected 2 fields, saw 3\\nSkipping line 4442: expected 2 fields, saw 3\\nSkipping line 4450: expected 2 fields, saw 5\\nSkipping line 4452: expected 2 fields, saw 5\\nSkipping line 4824: expected 2 fields, saw 3\\nSkipping line 4838: expected 2 fields, saw 3\\nSkipping line 4914: expected 2 fields, saw 3\\nSkipping line 4929: expected 2 fields, saw 3\\nSkipping line 4949: expected 2 fields, saw 3\\nSkipping line 4961: expected 2 fields, saw 3\\nSkipping line 5131: expected 2 fields, saw 3\\nSkipping line 5161: expected 2 fields, saw 3\\nSkipping line 5177: expected 2 fields, saw 3\\nSkipping line 5199: expected 2 fields, saw 4\\nSkipping line 5202: expected 2 fields, saw 4\\nSkipping line 5203: expected 2 fields, saw 3\\nSkipping line 5212: expected 2 fields, saw 3\\nSkipping line 5314: expected 2 fields, saw 3\\nSkipping line 5361: expected 2 fields, saw 3\\nSkipping line 5416: expected 2 fields, saw 3\\nSkipping line 5425: expected 2 fields, saw 3\\nSkipping line 5433: expected 2 fields, saw 3\\nSkipping line 5481: expected 2 fields, saw 3\\nSkipping line 5498: expected 2 fields, saw 3\\nSkipping line 5516: expected 2 fields, saw 3\\nSkipping line 5565: expected 2 fields, saw 3\\nSkipping line 5575: expected 2 fields, saw 3\\nSkipping line 6009: expected 2 fields, saw 3\\nSkipping line 6038: expected 2 fields, saw 5\\nSkipping line 6082: expected 2 fields, saw 3\\nSkipping line 6139: expected 2 fields, saw 10\\nSkipping line 6151: expected 2 fields, saw 4\\nSkipping line 6266: expected 2 fields, saw 3\\nSkipping line 6438: expected 2 fields, saw 4\\nSkipping line 6446: expected 2 fields, saw 3\\nSkipping line 6517: expected 2 fields, saw 3\\nSkipping line 6529: expected 2 fields, saw 3\\nSkipping line 6578: expected 2 fields, saw 3\\nSkipping line 6598: expected 2 fields, saw 3\\nSkipping line 6641: expected 2 fields, saw 3\\nSkipping line 6647: expected 2 fields, saw 4\\nSkipping line 6675: expected 2 fields, saw 3\\nSkipping line 6684: expected 2 fields, saw 3\\nSkipping line 6689: expected 2 fields, saw 4\\nSkipping line 6702: expected 2 fields, saw 5\\nSkipping line 6734: expected 2 fields, saw 3\\nSkipping line 6737: expected 2 fields, saw 4\\nSkipping line 6746: expected 2 fields, saw 5\\nSkipping line 6763: expected 2 fields, saw 3\\nSkipping line 6840: expected 2 fields, saw 3\\nSkipping line 6851: expected 2 fields, saw 3\\nSkipping line 6881: expected 2 fields, saw 3\\nSkipping line 6896: expected 2 fields, saw 3\\nSkipping line 7252: expected 2 fields, saw 3\\nSkipping line 7259: expected 2 fields, saw 3\\nSkipping line 7269: expected 2 fields, saw 3\\nSkipping line 7308: expected 2 fields, saw 3\\nSkipping line 7416: expected 2 fields, saw 3\\nSkipping line 7449: expected 2 fields, saw 3\\nSkipping line 7673: expected 2 fields, saw 3\\nSkipping line 7680: expected 2 fields, saw 4\\nSkipping line 7682: expected 2 fields, saw 3\\nSkipping line 7712: expected 2 fields, saw 3\\nSkipping line 7890: expected 2 fields, saw 4\\nSkipping line 7918: expected 2 fields, saw 3\\nSkipping line 7937: expected 2 fields, saw 3\\nSkipping line 8065: expected 2 fields, saw 3\\nSkipping line 8101: expected 2 fields, saw 3\\nSkipping line 8133: expected 2 fields, saw 3\\nSkipping line 8144: expected 2 fields, saw 3\\nSkipping line 8146: expected 2 fields, saw 3\\nSkipping line 8147: expected 2 fields, saw 3\\nSkipping line 8149: expected 2 fields, saw 4\\nSkipping line 8170: expected 2 fields, saw 3\\nSkipping line 8174: expected 2 fields, saw 4\\nSkipping line 8203: expected 2 fields, saw 3\\nSkipping line 8206: expected 2 fields, saw 3\\nSkipping line 8220: expected 2 fields, saw 3\\nSkipping line 8224: expected 2 fields, saw 4\\nSkipping line 8229: expected 2 fields, saw 3\\nSkipping line 8239: expected 2 fields, saw 3\\nSkipping line 8252: expected 2 fields, saw 4\\nSkipping line 8261: expected 2 fields, saw 3\\nSkipping line 8264: expected 2 fields, saw 3\\nSkipping line 8282: expected 2 fields, saw 3\\nSkipping line 8283: expected 2 fields, saw 3\\nSkipping line 8302: expected 2 fields, saw 3\\nSkipping line 8320: expected 2 fields, saw 4\\nSkipping line 8345: expected 2 fields, saw 3\\nSkipping line 8362: expected 2 fields, saw 3\\nSkipping line 8735: expected 2 fields, saw 3\\nSkipping line 8746: expected 2 fields, saw 3\\nSkipping line 8774: expected 2 fields, saw 3\\nSkipping line 8871: expected 2 fields, saw 4\\nSkipping line 8874: expected 2 fields, saw 3\\nSkipping line 8876: expected 2 fields, saw 3\\nSkipping line 8884: expected 2 fields, saw 3\\nSkipping line 8885: expected 2 fields, saw 3\\nSkipping line 8888: expected 2 fields, saw 3\\nSkipping line 8890: expected 2 fields, saw 3\\nSkipping line 8891: expected 2 fields, saw 3\\nSkipping line 8907: expected 2 fields, saw 3\\nSkipping line 8917: expected 2 fields, saw 4\\nSkipping line 8920: expected 2 fields, saw 4\\nSkipping line 8991: expected 2 fields, saw 4\\nSkipping line 8992: expected 2 fields, saw 4\\nSkipping line 8995: expected 2 fields, saw 3\\nSkipping line 9013: expected 2 fields, saw 3\\nSkipping line 9023: expected 2 fields, saw 3\\nSkipping line 9031: expected 2 fields, saw 3\\nSkipping line 9032: expected 2 fields, saw 4\\nSkipping line 9037: expected 2 fields, saw 4\\nSkipping line 9039: expected 2 fields, saw 3\\nSkipping line 9040: expected 2 fields, saw 3\\nSkipping line 9043: expected 2 fields, saw 3\\nSkipping line 9045: expected 2 fields, saw 3\\nSkipping line 9047: expected 2 fields, saw 4\\nSkipping line 9053: expected 2 fields, saw 7\\nSkipping line 9060: expected 2 fields, saw 3\\nSkipping line 9065: expected 2 fields, saw 3\\nSkipping line 9068: expected 2 fields, saw 3\\nSkipping line 9106: expected 2 fields, saw 3\\nSkipping line 9127: expected 2 fields, saw 3\\nSkipping line 9140: expected 2 fields, saw 3\\nSkipping line 9261: expected 2 fields, saw 4\\nSkipping line 9281: expected 2 fields, saw 3\\nSkipping line 9291: expected 2 fields, saw 4\\nSkipping line 9293: expected 2 fields, saw 3\\nSkipping line 9294: expected 2 fields, saw 3\\nSkipping line 9301: expected 2 fields, saw 3\\nSkipping line 9324: expected 2 fields, saw 3\\nSkipping line 9337: expected 2 fields, saw 3\\nSkipping line 9381: expected 2 fields, saw 3\\nSkipping line 9431: expected 2 fields, saw 3\\nSkipping line 9438: expected 2 fields, saw 3\\nSkipping line 9508: expected 2 fields, saw 3\\n'\n"
     ]
    }
   ],
   "source": [
    "df = pd.read_csv(filename, header=None, error_bad_lines=False, encoding='UTF-8')"
   ]
  },
  {
   "cell_type": "code",
   "execution_count": 32,
   "metadata": {},
   "outputs": [],
   "source": [
    "df.drop([0,1,2])\n",
    "df.columns = ['Date', 'Chat']\n",
    "\n",
    "Message = df['Chat'].str.split('-', n=1, expand=True)\n",
    "df['Time'] = Message[0]\n",
    "df['Message'] = Message[1] \n",
    "Message1 = df[\"Message\"].str.split(\":\", n=1, expand=True)\n",
    "\n",
    "df['Sender'] = Message1[0]\n",
    "df['Message'] = Message1[1]\n",
    "df = df.drop(columns=['Chat'])"
   ]
  },
  {
   "cell_type": "markdown",
   "metadata": {},
   "source": [
    "# Get the head of the dataframe"
   ]
  },
  {
   "cell_type": "code",
   "execution_count": 41,
   "metadata": {},
   "outputs": [
    {
     "data": {
      "text/html": [
       "<div>\n",
       "<style scoped>\n",
       "    .dataframe tbody tr th:only-of-type {\n",
       "        vertical-align: middle;\n",
       "    }\n",
       "\n",
       "    .dataframe tbody tr th {\n",
       "        vertical-align: top;\n",
       "    }\n",
       "\n",
       "    .dataframe thead th {\n",
       "        text-align: right;\n",
       "    }\n",
       "</style>\n",
       "<table border=\"1\" class=\"dataframe\">\n",
       "  <thead>\n",
       "    <tr style=\"text-align: right;\">\n",
       "      <th></th>\n",
       "      <th>Date</th>\n",
       "      <th>Time</th>\n",
       "      <th>Message</th>\n",
       "      <th>Sender</th>\n",
       "    </tr>\n",
       "  </thead>\n",
       "  <tbody>\n",
       "    <tr>\n",
       "      <th>0</th>\n",
       "      <td>26/08/2020</td>\n",
       "      <td>9:44 pm</td>\n",
       "      <td>None</td>\n",
       "      <td>Messages to this group are now secured with e...</td>\n",
       "    </tr>\n",
       "    <tr>\n",
       "      <th>1</th>\n",
       "      <td>06/06/2020</td>\n",
       "      <td>12:16 pm</td>\n",
       "      <td>None</td>\n",
       "      <td>Triumph DSC created group \"DSC AI STACK 🧠 🧠 (...</td>\n",
       "    </tr>\n",
       "    <tr>\n",
       "      <th>2</th>\n",
       "      <td>26/08/2020</td>\n",
       "      <td>8:50 pm</td>\n",
       "      <td>None</td>\n",
       "      <td>You're now an admin</td>\n",
       "    </tr>\n",
       "    <tr>\n",
       "      <th>3</th>\n",
       "      <td>26/08/2020</td>\n",
       "      <td>8:52 pm</td>\n",
       "      <td>Okay guys</td>\n",
       "      <td>Engr Dee</td>\n",
       "    </tr>\n",
       "    <tr>\n",
       "      <th>4</th>\n",
       "      <td>Your new instructors will be</td>\n",
       "      <td>NaN</td>\n",
       "      <td>NaN</td>\n",
       "      <td>NaN</td>\n",
       "    </tr>\n",
       "    <tr>\n",
       "      <th>5</th>\n",
       "      <td>@2347032490039</td>\n",
       "      <td>NaN</td>\n",
       "      <td>NaN</td>\n",
       "      <td>NaN</td>\n",
       "    </tr>\n",
       "    <tr>\n",
       "      <th>6</th>\n",
       "      <td>@2348124246736</td>\n",
       "      <td>NaN</td>\n",
       "      <td>NaN</td>\n",
       "      <td>NaN</td>\n",
       "    </tr>\n",
       "    <tr>\n",
       "      <th>7</th>\n",
       "      <td>@2348109417081</td>\n",
       "      <td>NaN</td>\n",
       "      <td>NaN</td>\n",
       "      <td>NaN</td>\n",
       "    </tr>\n",
       "    <tr>\n",
       "      <th>8</th>\n",
       "      <td>26/08/2020</td>\n",
       "      <td>8:51 pm</td>\n",
       "      <td>None</td>\n",
       "      <td>Engr Dee removed +234 812 754 4013</td>\n",
       "    </tr>\n",
       "    <tr>\n",
       "      <th>9</th>\n",
       "      <td>26/08/2020</td>\n",
       "      <td>9:28 pm</td>\n",
       "      <td>Ok</td>\n",
       "      <td>Nifemi DSC</td>\n",
       "    </tr>\n",
       "  </tbody>\n",
       "</table>\n",
       "</div>"
      ],
      "text/plain": [
       "                           Date        Time      Message  \\\n",
       "0                    26/08/2020    9:44 pm          None   \n",
       "1                    06/06/2020   12:16 pm          None   \n",
       "2                    26/08/2020    8:50 pm          None   \n",
       "3                    26/08/2020    8:52 pm    Okay guys    \n",
       "4  Your new instructors will be         NaN          NaN   \n",
       "5               @2347032490039          NaN          NaN   \n",
       "6               @2348124246736          NaN          NaN   \n",
       "7                @2348109417081         NaN          NaN   \n",
       "8                    26/08/2020    8:51 pm          None   \n",
       "9                    26/08/2020    9:28 pm            Ok   \n",
       "\n",
       "                                              Sender  \n",
       "0   Messages to this group are now secured with e...  \n",
       "1   Triumph DSC created group \"DSC AI STACK 🧠 🧠 (...  \n",
       "2                                You're now an admin  \n",
       "3                                           Engr Dee  \n",
       "4                                                NaN  \n",
       "5                                                NaN  \n",
       "6                                                NaN  \n",
       "7                                                NaN  \n",
       "8                 Engr Dee removed +234 812 754 4013  \n",
       "9                                         Nifemi DSC  "
      ]
     },
     "execution_count": 41,
     "metadata": {},
     "output_type": "execute_result"
    }
   ],
   "source": [
    "df.head(10)"
   ]
  },
  {
   "cell_type": "markdown",
   "metadata": {},
   "source": [
    "# Person that sent most messages overall"
   ]
  },
  {
   "cell_type": "code",
   "execution_count": 54,
   "metadata": {},
   "outputs": [
    {
     "data": {
      "text/plain": [
       " Success DSC    1525\n",
       "Name: Sender, dtype: int64"
      ]
     },
     "execution_count": 54,
     "metadata": {},
     "output_type": "execute_result"
    }
   ],
   "source": [
    "highest_message_sender = df['Sender'].value_counts()\n",
    "highest_message_sender.head(1)"
   ]
  },
  {
   "cell_type": "code",
   "execution_count": 55,
   "metadata": {},
   "outputs": [],
   "source": []
  },
  {
   "cell_type": "code",
   "execution_count": null,
   "metadata": {},
   "outputs": [],
   "source": []
  },
  {
   "cell_type": "code",
   "execution_count": null,
   "metadata": {},
   "outputs": [],
   "source": []
  }
 ],
 "metadata": {
  "kernelspec": {
   "display_name": "Python 3",
   "language": "python",
   "name": "python3"
  },
  "language_info": {
   "codemirror_mode": {
    "name": "ipython",
    "version": 3
   },
   "file_extension": ".py",
   "mimetype": "text/x-python",
   "name": "python",
   "nbconvert_exporter": "python",
   "pygments_lexer": "ipython3",
   "version": "3.8.3"
  }
 },
 "nbformat": 4,
 "nbformat_minor": 4
}
